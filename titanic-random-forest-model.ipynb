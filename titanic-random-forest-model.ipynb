{
 "cells": [
  {
   "cell_type": "code",
   "execution_count": 1,
   "id": "3f2e0bcc",
   "metadata": {
    "_cell_guid": "b1076dfc-b9ad-4769-8c92-a6c4dae69d19",
    "_uuid": "8f2839f25d086af736a60e9eeb907d3b93b6e0e5",
    "execution": {
     "iopub.execute_input": "2025-08-20T14:20:59.269996Z",
     "iopub.status.busy": "2025-08-20T14:20:59.269570Z",
     "iopub.status.idle": "2025-08-20T14:21:01.460851Z",
     "shell.execute_reply": "2025-08-20T14:21:01.459727Z"
    },
    "papermill": {
     "duration": 2.198206,
     "end_time": "2025-08-20T14:21:01.462532",
     "exception": false,
     "start_time": "2025-08-20T14:20:59.264326",
     "status": "completed"
    },
    "tags": []
   },
   "outputs": [
    {
     "name": "stdout",
     "output_type": "stream",
     "text": [
      "/kaggle/input/titanic/train.csv\n",
      "/kaggle/input/titanic/test.csv\n",
      "/kaggle/input/titanic/gender_submission.csv\n"
     ]
    }
   ],
   "source": [
    "# This Python 3 environment comes with many helpful analytics libraries installed\n",
    "# It is defined by the kaggle/python Docker image: https://github.com/kaggle/docker-python\n",
    "# For example, here's several helpful packages to load\n",
    "\n",
    "import numpy as np # linear algebra\n",
    "import pandas as pd # data processing, CSV file I/O (e.g. pd.read_csv)\n",
    "\n",
    "# Input data files are available in the read-only \"../input/\" directory\n",
    "# For example, running this (by clicking run or pressing Shift+Enter) will list all files under the input directory\n",
    "\n",
    "import os\n",
    "for dirname, _, filenames in os.walk('/kaggle/input'):\n",
    "    for filename in filenames:\n",
    "        print(os.path.join(dirname, filename))\n",
    "\n",
    "# You can write up to 20GB to the current directory (/kaggle/working/) that gets preserved as output when you create a version using \"Save & Run All\" \n",
    "# You can also write temporary files to /kaggle/temp/, but they won't be saved outside of the current session"
   ]
  },
  {
   "cell_type": "code",
   "execution_count": 2,
   "id": "d161b86b",
   "metadata": {
    "execution": {
     "iopub.execute_input": "2025-08-20T14:21:01.470987Z",
     "iopub.status.busy": "2025-08-20T14:21:01.470395Z",
     "iopub.status.idle": "2025-08-20T14:21:01.534101Z",
     "shell.execute_reply": "2025-08-20T14:21:01.533087Z"
    },
    "papermill": {
     "duration": 0.069596,
     "end_time": "2025-08-20T14:21:01.535890",
     "exception": false,
     "start_time": "2025-08-20T14:21:01.466294",
     "status": "completed"
    },
    "tags": []
   },
   "outputs": [
    {
     "data": {
      "text/html": [
       "<div>\n",
       "<style scoped>\n",
       "    .dataframe tbody tr th:only-of-type {\n",
       "        vertical-align: middle;\n",
       "    }\n",
       "\n",
       "    .dataframe tbody tr th {\n",
       "        vertical-align: top;\n",
       "    }\n",
       "\n",
       "    .dataframe thead th {\n",
       "        text-align: right;\n",
       "    }\n",
       "</style>\n",
       "<table border=\"1\" class=\"dataframe\">\n",
       "  <thead>\n",
       "    <tr style=\"text-align: right;\">\n",
       "      <th></th>\n",
       "      <th>PassengerId</th>\n",
       "      <th>Pclass</th>\n",
       "      <th>Name</th>\n",
       "      <th>Sex</th>\n",
       "      <th>Age</th>\n",
       "      <th>SibSp</th>\n",
       "      <th>Parch</th>\n",
       "      <th>Ticket</th>\n",
       "      <th>Fare</th>\n",
       "      <th>Cabin</th>\n",
       "      <th>Embarked</th>\n",
       "    </tr>\n",
       "  </thead>\n",
       "  <tbody>\n",
       "    <tr>\n",
       "      <th>0</th>\n",
       "      <td>1</td>\n",
       "      <td>3</td>\n",
       "      <td>Braund, Mr. Owen Harris</td>\n",
       "      <td>male</td>\n",
       "      <td>22.0</td>\n",
       "      <td>1</td>\n",
       "      <td>0</td>\n",
       "      <td>A/5 21171</td>\n",
       "      <td>7.2500</td>\n",
       "      <td>NaN</td>\n",
       "      <td>S</td>\n",
       "    </tr>\n",
       "    <tr>\n",
       "      <th>1</th>\n",
       "      <td>2</td>\n",
       "      <td>1</td>\n",
       "      <td>Cumings, Mrs. John Bradley (Florence Briggs Th...</td>\n",
       "      <td>female</td>\n",
       "      <td>38.0</td>\n",
       "      <td>1</td>\n",
       "      <td>0</td>\n",
       "      <td>PC 17599</td>\n",
       "      <td>71.2833</td>\n",
       "      <td>C85</td>\n",
       "      <td>C</td>\n",
       "    </tr>\n",
       "    <tr>\n",
       "      <th>2</th>\n",
       "      <td>3</td>\n",
       "      <td>3</td>\n",
       "      <td>Heikkinen, Miss. Laina</td>\n",
       "      <td>female</td>\n",
       "      <td>26.0</td>\n",
       "      <td>0</td>\n",
       "      <td>0</td>\n",
       "      <td>STON/O2. 3101282</td>\n",
       "      <td>7.9250</td>\n",
       "      <td>NaN</td>\n",
       "      <td>S</td>\n",
       "    </tr>\n",
       "    <tr>\n",
       "      <th>3</th>\n",
       "      <td>4</td>\n",
       "      <td>1</td>\n",
       "      <td>Futrelle, Mrs. Jacques Heath (Lily May Peel)</td>\n",
       "      <td>female</td>\n",
       "      <td>35.0</td>\n",
       "      <td>1</td>\n",
       "      <td>0</td>\n",
       "      <td>113803</td>\n",
       "      <td>53.1000</td>\n",
       "      <td>C123</td>\n",
       "      <td>S</td>\n",
       "    </tr>\n",
       "    <tr>\n",
       "      <th>4</th>\n",
       "      <td>5</td>\n",
       "      <td>3</td>\n",
       "      <td>Allen, Mr. William Henry</td>\n",
       "      <td>male</td>\n",
       "      <td>35.0</td>\n",
       "      <td>0</td>\n",
       "      <td>0</td>\n",
       "      <td>373450</td>\n",
       "      <td>8.0500</td>\n",
       "      <td>NaN</td>\n",
       "      <td>S</td>\n",
       "    </tr>\n",
       "  </tbody>\n",
       "</table>\n",
       "</div>"
      ],
      "text/plain": [
       "   PassengerId  Pclass                                               Name  \\\n",
       "0            1       3                            Braund, Mr. Owen Harris   \n",
       "1            2       1  Cumings, Mrs. John Bradley (Florence Briggs Th...   \n",
       "2            3       3                             Heikkinen, Miss. Laina   \n",
       "3            4       1       Futrelle, Mrs. Jacques Heath (Lily May Peel)   \n",
       "4            5       3                           Allen, Mr. William Henry   \n",
       "\n",
       "      Sex   Age  SibSp  Parch            Ticket     Fare Cabin Embarked  \n",
       "0    male  22.0      1      0         A/5 21171   7.2500   NaN        S  \n",
       "1  female  38.0      1      0          PC 17599  71.2833   C85        C  \n",
       "2  female  26.0      0      0  STON/O2. 3101282   7.9250   NaN        S  \n",
       "3  female  35.0      1      0            113803  53.1000  C123        S  \n",
       "4    male  35.0      0      0            373450   8.0500   NaN        S  "
      ]
     },
     "execution_count": 2,
     "metadata": {},
     "output_type": "execute_result"
    }
   ],
   "source": [
    "train_data = pd.read_csv(\"/kaggle/input/titanic/train.csv\")\n",
    "train_data.head()\n",
    "y = train_data[\"Survived\"]\n",
    "X = train_data.drop(\"Survived\", axis=1)\n",
    "X.head()\n"
   ]
  },
  {
   "cell_type": "code",
   "execution_count": 3,
   "id": "e4de7d5d",
   "metadata": {
    "execution": {
     "iopub.execute_input": "2025-08-20T14:21:01.544580Z",
     "iopub.status.busy": "2025-08-20T14:21:01.544243Z",
     "iopub.status.idle": "2025-08-20T14:21:01.572863Z",
     "shell.execute_reply": "2025-08-20T14:21:01.571618Z"
    },
    "papermill": {
     "duration": 0.03536,
     "end_time": "2025-08-20T14:21:01.575040",
     "exception": false,
     "start_time": "2025-08-20T14:21:01.539680",
     "status": "completed"
    },
    "tags": []
   },
   "outputs": [
    {
     "name": "stdout",
     "output_type": "stream",
     "text": [
      "% of women who survived: 0.7420382165605095\n",
      "% of women who survived: 0.18890814558058924\n",
      "% of true instance: 0.3838383838383838\n",
      "(891, 11)\n",
      "<class 'pandas.core.frame.DataFrame'>\n",
      "RangeIndex: 891 entries, 0 to 890\n",
      "Data columns (total 11 columns):\n",
      " #   Column       Non-Null Count  Dtype  \n",
      "---  ------       --------------  -----  \n",
      " 0   PassengerId  891 non-null    int64  \n",
      " 1   Pclass       891 non-null    int64  \n",
      " 2   Name         891 non-null    object \n",
      " 3   Sex          891 non-null    object \n",
      " 4   Age          714 non-null    float64\n",
      " 5   SibSp        891 non-null    int64  \n",
      " 6   Parch        891 non-null    int64  \n",
      " 7   Ticket       891 non-null    object \n",
      " 8   Fare         891 non-null    float64\n",
      " 9   Cabin        204 non-null    object \n",
      " 10  Embarked     889 non-null    object \n",
      "dtypes: float64(2), int64(4), object(5)\n",
      "memory usage: 76.7+ KB\n",
      "None\n"
     ]
    }
   ],
   "source": [
    "# Index(['PassengerId', 'Pclass', 'Name', 'Sex', 'Age', 'SibSp', 'Parch',\n",
    "#        'Ticket', 'Fare', 'Cabin', 'Embarked'],\n",
    "#       dtype='object')\n",
    "\n",
    "# Data exploration\n",
    "survived_women = train_data.loc[train_data.Sex == \"female\"]['Survived']\n",
    "mean_survived_women = survived_women.mean()\n",
    "print(\"% of women who survived:\", mean_survived_women)\n",
    "\n",
    "survived_men = train_data.loc[train_data.Sex == \"male\"]['Survived']\n",
    "mean_survived_men = survived_men.mean()\n",
    "print(\"% of women who survived:\", mean_survived_men)\n",
    "\n",
    "\n",
    "survival_rate = train_data[\"Survived\"].mean()\n",
    "print(\"% of true instance:\", survival_rate)\n",
    "# 38 percent, mildly imbalance true instance\n",
    "\n",
    "# Quick overview\n",
    "# 891 rows\n",
    "print(X.shape)\n",
    "print(X.info())\n"
   ]
  },
  {
   "cell_type": "code",
   "execution_count": 4,
   "id": "6096bf92",
   "metadata": {
    "execution": {
     "iopub.execute_input": "2025-08-20T14:21:01.584914Z",
     "iopub.status.busy": "2025-08-20T14:21:01.584464Z",
     "iopub.status.idle": "2025-08-20T14:21:03.333248Z",
     "shell.execute_reply": "2025-08-20T14:21:03.332123Z"
    },
    "papermill": {
     "duration": 1.755776,
     "end_time": "2025-08-20T14:21:03.335397",
     "exception": false,
     "start_time": "2025-08-20T14:21:01.579621",
     "status": "completed"
    },
    "tags": []
   },
   "outputs": [],
   "source": [
    "from sklearn.preprocessing import FunctionTransformer\n",
    "\n",
    "features = [\"Pclass\", \"Sex\", \"FamilySize\", \"Age\", \"Fare\", \"Title\",  \"isAlone\"]\n",
    "\n",
    "def pluck_important_feature(df):\n",
    "    return df[features]\n",
    "\n",
    "# feature engineering\n",
    "def add_engineered_feature(df):\n",
    "    df = df.copy()\n",
    "    \n",
    "    df[\"FamilySize\"] = df[\"SibSp\"] + df[\"Parch\"] + 1\n",
    "\n",
    "    df['Title'] = df['Name'].str.extract(' ([A-Za-z]+)\\.')\n",
    "    df['Title'] = df['Title'].replace(['Lady', 'Countess','Capt', 'Col','Don', 'Dr', 'Major', 'Rev', 'Sir', 'Jonkheer', 'Dona'], 'Rare')\n",
    "    df['Title'] = df['Title'].replace('Mlle', 'Miss')\n",
    "    df['Title'] = df['Title'].replace('Ms', 'Miss')\n",
    "    df['Title'] = df['Title'].replace('Mme', 'Mrs')\n",
    "\n",
    "    df[\"isAlone\"] = (df['FamilySize'] == 1).astype(int)\n",
    "    \n",
    "    return df\n",
    "\n",
    "# fill na values\n",
    "def fill_na_values(df):\n",
    "    df = df.copy()\n",
    "    \n",
    "    df[\"Age\"] = df[\"Age\"].fillna(df[\"Age\"].median())\n",
    "    df[\"Fare\"] = df[\"Fare\"].fillna(df[\"Fare\"].median())\n",
    "    \n",
    "    return df\n",
    "\n",
    "add_engineered_feature_transformer = FunctionTransformer(add_engineered_feature)\n",
    "fill_na_values_transformer = FunctionTransformer(fill_na_values)\n",
    "pluck_important_feature_transformer = FunctionTransformer(pluck_important_feature)"
   ]
  },
  {
   "cell_type": "code",
   "execution_count": 5,
   "id": "2c6effe9",
   "metadata": {
    "execution": {
     "iopub.execute_input": "2025-08-20T14:21:03.343585Z",
     "iopub.status.busy": "2025-08-20T14:21:03.343028Z",
     "iopub.status.idle": "2025-08-20T14:21:03.890670Z",
     "shell.execute_reply": "2025-08-20T14:21:03.889652Z"
    },
    "papermill": {
     "duration": 0.553851,
     "end_time": "2025-08-20T14:21:03.892625",
     "exception": false,
     "start_time": "2025-08-20T14:21:03.338774",
     "status": "completed"
    },
    "tags": []
   },
   "outputs": [],
   "source": [
    "from sklearn.compose import ColumnTransformer\n",
    "from sklearn.preprocessing import OneHotEncoder\n",
    "from sklearn.pipeline import Pipeline\n",
    "from sklearn.model_selection import train_test_split\n",
    "from sklearn.preprocessing import OneHotEncoder\n",
    "from sklearn.ensemble import RandomForestClassifier\n",
    "\n",
    "\n",
    "categorical = [\"Pclass\", \"Sex\", \"Title\"]\n",
    "\n",
    "preprocessor = ColumnTransformer(\n",
    "    transformers = [\n",
    "        (\"cat\", OneHotEncoder(), categorical)\n",
    "    ],\n",
    "    remainder=\"passthrough\"\n",
    ")\n",
    "\n",
    "clf = Pipeline(steps=[\n",
    "    (\"add_engineered_feature\", add_engineered_feature_transformer),\n",
    "    (\"pluck_important_feature\", pluck_important_feature_transformer),\n",
    "    (\"fill_na_values\", fill_na_values_transformer),\n",
    "    (\"preprocessor\", preprocessor),\n",
    "    (\"model\", RandomForestClassifier(random_state=42))\n",
    "])"
   ]
  },
  {
   "cell_type": "code",
   "execution_count": 6,
   "id": "75bfbab8",
   "metadata": {
    "execution": {
     "iopub.execute_input": "2025-08-20T14:21:03.901057Z",
     "iopub.status.busy": "2025-08-20T14:21:03.900614Z",
     "iopub.status.idle": "2025-08-20T14:21:03.907003Z",
     "shell.execute_reply": "2025-08-20T14:21:03.906015Z"
    },
    "papermill": {
     "duration": 0.012478,
     "end_time": "2025-08-20T14:21:03.908667",
     "exception": false,
     "start_time": "2025-08-20T14:21:03.896189",
     "status": "completed"
    },
    "tags": []
   },
   "outputs": [],
   "source": [
    "from sklearn.model_selection import GridSearchCV\n",
    "\n",
    "# setup for hyper parameter tuning\n",
    "param_grid = {\n",
    "    \"model__n_estimators\": [100, 200, 300],\n",
    "    \"model__max_depth\": [4, 5, 6, None],\n",
    "    \"model__min_samples_split\": [2, 5, 10],\n",
    "    \"model__min_samples_leaf\": [1, 2, 4],\n",
    "    # \"model__class_weight\": [None, 'balanced', {0: 1, 1: 1.5},],\n",
    "    \"model__class_weight\": [{0: 0.6, 1: 1.4}]\n",
    "                            \n",
    "}\n",
    "\n",
    "grid_search = GridSearchCV(\n",
    "    estimator=clf,\n",
    "    param_grid=param_grid,\n",
    "    cv=5,               # number of folds\n",
    "    scoring=['accuracy', 'roc_auc', 'recall', 'f1'],\n",
    "    refit='roc_auc',\n",
    "    n_jobs=-1           # use all CPU cores\n",
    ")\n",
    "\n"
   ]
  },
  {
   "cell_type": "code",
   "execution_count": 7,
   "id": "a863ea78",
   "metadata": {
    "execution": {
     "iopub.execute_input": "2025-08-20T14:21:03.917070Z",
     "iopub.status.busy": "2025-08-20T14:21:03.916615Z",
     "iopub.status.idle": "2025-08-20T14:22:32.969803Z",
     "shell.execute_reply": "2025-08-20T14:22:32.968226Z"
    },
    "papermill": {
     "duration": 89.059869,
     "end_time": "2025-08-20T14:22:32.972038",
     "exception": false,
     "start_time": "2025-08-20T14:21:03.912169",
     "status": "completed"
    },
    "tags": []
   },
   "outputs": [],
   "source": [
    "from sklearn.metrics import accuracy_score\n",
    "\n",
    "X_train, X_val, y_train, y_val = train_test_split(X, y, test_size=0.2, random_state=42,stratify=y)\n",
    "\n",
    "grid_search.fit(X_train, y_train)\n",
    "\n",
    "# Access the best pipeline after GridSearchCV\n",
    "best_estimator = grid_search.best_estimator_"
   ]
  },
  {
   "cell_type": "code",
   "execution_count": 8,
   "id": "b20a00cb",
   "metadata": {
    "execution": {
     "iopub.execute_input": "2025-08-20T14:22:32.981605Z",
     "iopub.status.busy": "2025-08-20T14:22:32.980786Z",
     "iopub.status.idle": "2025-08-20T14:22:33.023529Z",
     "shell.execute_reply": "2025-08-20T14:22:33.022397Z"
    },
    "papermill": {
     "duration": 0.049043,
     "end_time": "2025-08-20T14:22:33.025246",
     "exception": false,
     "start_time": "2025-08-20T14:22:32.976203",
     "status": "completed"
    },
    "tags": []
   },
   "outputs": [
    {
     "name": "stdout",
     "output_type": "stream",
     "text": [
      "Validation Accuracy: 0.8156424581005587\n",
      "feature: Pclass , importance: 0.04380895479903857\n",
      "feature: Sex , importance: 0.015613744229991842\n",
      "feature: FamilySize , importance: 0.04642201909017499\n",
      "feature: Age , importance: 0.11894423504327786\n",
      "feature: Fare , importance: 0.09564401215534117\n",
      "feature: Title , importance: 0.012246057730665607\n",
      "feature: isAlone , importance: 0.027251660636038767\n"
     ]
    }
   ],
   "source": [
    "# evaluate accuracy\n",
    "val_preds = best_estimator.predict(X_val)\n",
    "print(\"Validation Accuracy:\", accuracy_score(y_val, val_preds))\n",
    "\n",
    "# evaluate feature importance\n",
    "# Get the model from inside the pipeline\n",
    "rf_model = best_estimator.named_steps[\"model\"]\n",
    "\n",
    "# Feature importances\n",
    "feature_importance = rf_model.feature_importances_\n",
    "\n",
    "for feature_name, imp in zip(features, feature_importance):\n",
    "    print (\"feature:\", feature_name, \", importance:\", imp)"
   ]
  },
  {
   "cell_type": "code",
   "execution_count": 9,
   "id": "9d890d07",
   "metadata": {
    "execution": {
     "iopub.execute_input": "2025-08-20T14:22:33.034190Z",
     "iopub.status.busy": "2025-08-20T14:22:33.033309Z",
     "iopub.status.idle": "2025-08-20T14:22:33.450472Z",
     "shell.execute_reply": "2025-08-20T14:22:33.449503Z"
    },
    "papermill": {
     "duration": 0.423201,
     "end_time": "2025-08-20T14:22:33.452051",
     "exception": false,
     "start_time": "2025-08-20T14:22:33.028850",
     "status": "completed"
    },
    "tags": []
   },
   "outputs": [
    {
     "name": "stdout",
     "output_type": "stream",
     "text": [
      "                 precision    recall  f1-score   support\n",
      "\n",
      "Did Not Survive       0.89      0.80      0.84       110\n",
      "       Survived       0.72      0.84      0.78        69\n",
      "\n",
      "       accuracy                           0.82       179\n",
      "      macro avg       0.81      0.82      0.81       179\n",
      "   weighted avg       0.83      0.82      0.82       179\n",
      "\n"
     ]
    },
    {
     "data": {
      "image/png": "[encoded data removed]",
      "text/plain": [
       "<Figure size 640x480 with 2 Axes>"
      ]
     },
     "metadata": {},
     "output_type": "display_data"
    }
   ],
   "source": [
    "from sklearn.metrics import confusion_matrix, ConfusionMatrixDisplay, classification_report\n",
    "\n",
    "cm = confusion_matrix(y_val, val_preds, labels=[0, 1])\n",
    "disp = ConfusionMatrixDisplay(confusion_matrix=cm, display_labels=[\"Did Not Survive\", \"Survived\"])\n",
    "disp.plot(cmap=\"Blues\")\n",
    "\n",
    "print(classification_report(y_val, val_preds, target_names=[\"Did Not Survive\", \"Survived\"]))"
   ]
  },
  {
   "cell_type": "code",
   "execution_count": 10,
   "id": "802ab477",
   "metadata": {
    "execution": {
     "iopub.execute_input": "2025-08-20T14:22:33.462029Z",
     "iopub.status.busy": "2025-08-20T14:22:33.461042Z",
     "iopub.status.idle": "2025-08-20T14:22:35.253129Z",
     "shell.execute_reply": "2025-08-20T14:22:35.251939Z"
    },
    "papermill": {
     "duration": 1.798814,
     "end_time": "2025-08-20T14:22:35.254952",
     "exception": false,
     "start_time": "2025-08-20T14:22:33.456138",
     "status": "completed"
    },
    "tags": []
   },
   "outputs": [
    {
     "name": "stdout",
     "output_type": "stream",
     "text": [
      "CV F1 scores: [0.76315789 0.75862069 0.8        0.74603175 0.82432432]\n",
      "Mean F1: 0.778426930949617 ± Std: 0.029143941716209477\n"
     ]
    }
   ],
   "source": [
    "from sklearn.model_selection import cross_val_score\n",
    "\n",
    "cv_scores = cross_val_score(best_estimator, X, y, cv=5, scoring=\"f1\")\n",
    "print(\"CV F1 scores:\", cv_scores)\n",
    "print(\"Mean F1:\", cv_scores.mean(), \"± Std:\", cv_scores.std())\n",
    "\n",
    "# cv_scores = cross_val_score(best_estimator, X, y, cv=5, scoring=\"roc_auc\")\n",
    "# print(\"CV roc_auc scores:\", cv_scores)\n",
    "# print(\"Mean roc_auc:\", cv_scores.mean(), \"± Std:\", cv_scores.std())"
   ]
  },
  {
   "cell_type": "code",
   "execution_count": 11,
   "id": "63deeabd",
   "metadata": {
    "execution": {
     "iopub.execute_input": "2025-08-20T14:22:35.265306Z",
     "iopub.status.busy": "2025-08-20T14:22:35.264954Z",
     "iopub.status.idle": "2025-08-20T14:22:35.319053Z",
     "shell.execute_reply": "2025-08-20T14:22:35.317806Z"
    },
    "papermill": {
     "duration": 0.061415,
     "end_time": "2025-08-20T14:22:35.320851",
     "exception": false,
     "start_time": "2025-08-20T14:22:35.259436",
     "status": "completed"
    },
    "tags": []
   },
   "outputs": [
    {
     "name": "stdout",
     "output_type": "stream",
     "text": [
      "Submission shape: (418, 2)\n",
      "   PassengerId  Survived\n",
      "0          892         0\n",
      "1          893         1\n",
      "2          894         0\n",
      "3          895         0\n",
      "4          896         1\n",
      "Predictions: 188 survived, 230 died\n"
     ]
    }
   ],
   "source": [
    "# submission\n",
    "test_data = pd.read_csv(\"/kaggle/input/titanic/test.csv\")\n",
    "passenger_ids = test_data['PassengerId'].copy()\n",
    "predictions = best_estimator.predict(test_data)\n",
    "\n",
    "output = pd.DataFrame({\n",
    "    'PassengerId': passenger_ids,\n",
    "    'Survived': predictions\n",
    "})\n",
    "\n",
    "output.to_csv('submission.csv', index=False)\n",
    "\n",
    "print(f\"Submission shape: {output.shape}\")\n",
    "print(output.head())\n",
    "print(f\"Predictions: {output['Survived'].sum()} survived, {len(output) - output['Survived'].sum()} died\")"
   ]
  }
 ],
 "metadata": {
  "kaggle": {
   "accelerator": "none",
   "dataSources": [
    {
     "databundleVersionId": 26502,
     "sourceId": 3136,
     "sourceType": "competition"
    }
   ],
   "dockerImageVersionId": 31089,
   "isGpuEnabled": false,
   "isInternetEnabled": false,
   "language": "python",
   "sourceType": "notebook"
  },
  "kernelspec": {
   "display_name": "Python 3",
   "language": "python",
   "name": "python3"
  },
  "language_info": {
   "codemirror_mode": {
    "name": "ipython",
    "version": 3
   },
   "file_extension": ".py",
   "mimetype": "text/x-python",
   "name": "python",
   "nbconvert_exporter": "python",
   "pygments_lexer": "ipython3",
   "version": "3.11.13"
  },
  "papermill": {
   "default_parameters": {},
   "duration": 104.563688,
   "end_time": "2025-08-20T14:22:37.945491",
   "environment_variables": {},
   "exception": null,
   "input_path": "__notebook__.ipynb",
   "output_path": "__notebook__.ipynb",
   "parameters": {},
   "start_time": "2025-08-20T14:20:53.381803",
   "version": "2.6.0"
  }
 },
 "nbformat": 4,
 "nbformat_minor": 5
}
