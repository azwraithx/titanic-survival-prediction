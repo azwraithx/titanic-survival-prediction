{
 "cells": [
  {
   "cell_type": "code",
   "execution_count": 1,
   "id": "a4633610",
   "metadata": {
    "_cell_guid": "b1076dfc-b9ad-4769-8c92-a6c4dae69d19",
    "_uuid": "8f2839f25d086af736a60e9eeb907d3b93b6e0e5",
    "execution": {
     "iopub.execute_input": "2025-08-19T20:38:18.078394Z",
     "iopub.status.busy": "2025-08-19T20:38:18.078040Z",
     "iopub.status.idle": "2025-08-19T20:38:20.681564Z",
     "shell.execute_reply": "2025-08-19T20:38:20.679914Z"
    },
    "papermill": {
     "duration": 2.610899,
     "end_time": "2025-08-19T20:38:20.683667",
     "exception": false,
     "start_time": "2025-08-19T20:38:18.072768",
     "status": "completed"
    },
    "tags": []
   },
   "outputs": [
    {
     "name": "stdout",
     "output_type": "stream",
     "text": [
      "/kaggle/input/titanic/train.csv\n",
      "/kaggle/input/titanic/test.csv\n",
      "/kaggle/input/titanic/gender_submission.csv\n"
     ]
    }
   ],
   "source": [
    "# This Python 3 environment comes with many helpful analytics libraries installed\n",
    "# It is defined by the kaggle/python Docker image: https://github.com/kaggle/docker-python\n",
    "# For example, here's several helpful packages to load\n",
    "\n",
    "import numpy as np # linear algebra\n",
    "import pandas as pd # data processing, CSV file I/O (e.g. pd.read_csv)\n",
    "\n",
    "# Input data files are available in the read-only \"../input/\" directory\n",
    "# For example, running this (by clicking run or pressing Shift+Enter) will list all files under the input directory\n",
    "\n",
    "import os\n",
    "for dirname, _, filenames in os.walk('/kaggle/input'):\n",
    "    for filename in filenames:\n",
    "        print(os.path.join(dirname, filename))\n",
    "\n",
    "# You can write up to 20GB to the current directory (/kaggle/working/) that gets preserved as output when you create a version using \"Save & Run All\" \n",
    "# You can also write temporary files to /kaggle/temp/, but they won't be saved outside of the current session"
   ]
  },
  {
   "cell_type": "code",
   "execution_count": 2,
   "id": "648dc50c",
   "metadata": {
    "execution": {
     "iopub.execute_input": "2025-08-19T20:38:20.693520Z",
     "iopub.status.busy": "2025-08-19T20:38:20.692907Z",
     "iopub.status.idle": "2025-08-19T20:38:20.783691Z",
     "shell.execute_reply": "2025-08-19T20:38:20.782639Z"
    },
    "papermill": {
     "duration": 0.097739,
     "end_time": "2025-08-19T20:38:20.785655",
     "exception": false,
     "start_time": "2025-08-19T20:38:20.687916",
     "status": "completed"
    },
    "tags": []
   },
   "outputs": [
    {
     "data": {
      "text/html": [
       "<div>\n",
       "<style scoped>\n",
       "    .dataframe tbody tr th:only-of-type {\n",
       "        vertical-align: middle;\n",
       "    }\n",
       "\n",
       "    .dataframe tbody tr th {\n",
       "        vertical-align: top;\n",
       "    }\n",
       "\n",
       "    .dataframe thead th {\n",
       "        text-align: right;\n",
       "    }\n",
       "</style>\n",
       "<table border=\"1\" class=\"dataframe\">\n",
       "  <thead>\n",
       "    <tr style=\"text-align: right;\">\n",
       "      <th></th>\n",
       "      <th>PassengerId</th>\n",
       "      <th>Pclass</th>\n",
       "      <th>Name</th>\n",
       "      <th>Sex</th>\n",
       "      <th>Age</th>\n",
       "      <th>SibSp</th>\n",
       "      <th>Parch</th>\n",
       "      <th>Ticket</th>\n",
       "      <th>Fare</th>\n",
       "      <th>Cabin</th>\n",
       "      <th>Embarked</th>\n",
       "    </tr>\n",
       "  </thead>\n",
       "  <tbody>\n",
       "    <tr>\n",
       "      <th>0</th>\n",
       "      <td>1</td>\n",
       "      <td>3</td>\n",
       "      <td>Braund, Mr. Owen Harris</td>\n",
       "      <td>male</td>\n",
       "      <td>22.0</td>\n",
       "      <td>1</td>\n",
       "      <td>0</td>\n",
       "      <td>A/5 21171</td>\n",
       "      <td>7.2500</td>\n",
       "      <td>NaN</td>\n",
       "      <td>S</td>\n",
       "    </tr>\n",
       "    <tr>\n",
       "      <th>1</th>\n",
       "      <td>2</td>\n",
       "      <td>1</td>\n",
       "      <td>Cumings, Mrs. John Bradley (Florence Briggs Th...</td>\n",
       "      <td>female</td>\n",
       "      <td>38.0</td>\n",
       "      <td>1</td>\n",
       "      <td>0</td>\n",
       "      <td>PC 17599</td>\n",
       "      <td>71.2833</td>\n",
       "      <td>C85</td>\n",
       "      <td>C</td>\n",
       "    </tr>\n",
       "    <tr>\n",
       "      <th>2</th>\n",
       "      <td>3</td>\n",
       "      <td>3</td>\n",
       "      <td>Heikkinen, Miss. Laina</td>\n",
       "      <td>female</td>\n",
       "      <td>26.0</td>\n",
       "      <td>0</td>\n",
       "      <td>0</td>\n",
       "      <td>STON/O2. 3101282</td>\n",
       "      <td>7.9250</td>\n",
       "      <td>NaN</td>\n",
       "      <td>S</td>\n",
       "    </tr>\n",
       "    <tr>\n",
       "      <th>3</th>\n",
       "      <td>4</td>\n",
       "      <td>1</td>\n",
       "      <td>Futrelle, Mrs. Jacques Heath (Lily May Peel)</td>\n",
       "      <td>female</td>\n",
       "      <td>35.0</td>\n",
       "      <td>1</td>\n",
       "      <td>0</td>\n",
       "      <td>113803</td>\n",
       "      <td>53.1000</td>\n",
       "      <td>C123</td>\n",
       "      <td>S</td>\n",
       "    </tr>\n",
       "    <tr>\n",
       "      <th>4</th>\n",
       "      <td>5</td>\n",
       "      <td>3</td>\n",
       "      <td>Allen, Mr. William Henry</td>\n",
       "      <td>male</td>\n",
       "      <td>35.0</td>\n",
       "      <td>0</td>\n",
       "      <td>0</td>\n",
       "      <td>373450</td>\n",
       "      <td>8.0500</td>\n",
       "      <td>NaN</td>\n",
       "      <td>S</td>\n",
       "    </tr>\n",
       "  </tbody>\n",
       "</table>\n",
       "</div>"
      ],
      "text/plain": [
       "   PassengerId  Pclass                                               Name  \\\n",
       "0            1       3                            Braund, Mr. Owen Harris   \n",
       "1            2       1  Cumings, Mrs. John Bradley (Florence Briggs Th...   \n",
       "2            3       3                             Heikkinen, Miss. Laina   \n",
       "3            4       1       Futrelle, Mrs. Jacques Heath (Lily May Peel)   \n",
       "4            5       3                           Allen, Mr. William Henry   \n",
       "\n",
       "      Sex   Age  SibSp  Parch            Ticket     Fare Cabin Embarked  \n",
       "0    male  22.0      1      0         A/5 21171   7.2500   NaN        S  \n",
       "1  female  38.0      1      0          PC 17599  71.2833   C85        C  \n",
       "2  female  26.0      0      0  STON/O2. 3101282   7.9250   NaN        S  \n",
       "3  female  35.0      1      0            113803  53.1000  C123        S  \n",
       "4    male  35.0      0      0            373450   8.0500   NaN        S  "
      ]
     },
     "execution_count": 2,
     "metadata": {},
     "output_type": "execute_result"
    }
   ],
   "source": [
    "train_data = pd.read_csv(\"/kaggle/input/titanic/train.csv\")\n",
    "train_data.head()\n",
    "y = train_data[\"Survived\"]\n",
    "X = train_data.drop(\"Survived\", axis=1)\n",
    "X.head()\n"
   ]
  },
  {
   "cell_type": "code",
   "execution_count": 3,
   "id": "558ee5dc",
   "metadata": {
    "execution": {
     "iopub.execute_input": "2025-08-19T20:38:20.795474Z",
     "iopub.status.busy": "2025-08-19T20:38:20.795011Z",
     "iopub.status.idle": "2025-08-19T20:38:20.834309Z",
     "shell.execute_reply": "2025-08-19T20:38:20.832998Z"
    },
    "papermill": {
     "duration": 0.047314,
     "end_time": "2025-08-19T20:38:20.836692",
     "exception": false,
     "start_time": "2025-08-19T20:38:20.789378",
     "status": "completed"
    },
    "tags": []
   },
   "outputs": [
    {
     "name": "stdout",
     "output_type": "stream",
     "text": [
      "% of women who survived: 0.7420382165605095\n",
      "% of women who survived: 0.18890814558058924\n",
      "% of true instance: 0.3838383838383838\n",
      "(891, 11)\n",
      "<class 'pandas.core.frame.DataFrame'>\n",
      "RangeIndex: 891 entries, 0 to 890\n",
      "Data columns (total 11 columns):\n",
      " #   Column       Non-Null Count  Dtype  \n",
      "---  ------       --------------  -----  \n",
      " 0   PassengerId  891 non-null    int64  \n",
      " 1   Pclass       891 non-null    int64  \n",
      " 2   Name         891 non-null    object \n",
      " 3   Sex          891 non-null    object \n",
      " 4   Age          714 non-null    float64\n",
      " 5   SibSp        891 non-null    int64  \n",
      " 6   Parch        891 non-null    int64  \n",
      " 7   Ticket       891 non-null    object \n",
      " 8   Fare         891 non-null    float64\n",
      " 9   Cabin        204 non-null    object \n",
      " 10  Embarked     889 non-null    object \n",
      "dtypes: float64(2), int64(4), object(5)\n",
      "memory usage: 76.7+ KB\n",
      "None\n"
     ]
    }
   ],
   "source": [
    "# Index(['PassengerId', 'Pclass', 'Name', 'Sex', 'Age', 'SibSp', 'Parch',\n",
    "#        'Ticket', 'Fare', 'Cabin', 'Embarked'],\n",
    "#       dtype='object')\n",
    "\n",
    "# Data exploration\n",
    "survived_women = train_data.loc[train_data.Sex == \"female\"]['Survived']\n",
    "mean_survived_women = survived_women.mean()\n",
    "print(\"% of women who survived:\", mean_survived_women)\n",
    "\n",
    "survived_men = train_data.loc[train_data.Sex == \"male\"]['Survived']\n",
    "mean_survived_men = survived_men.mean()\n",
    "print(\"% of women who survived:\", mean_survived_men)\n",
    "\n",
    "\n",
    "survival_rate = train_data[\"Survived\"].mean()\n",
    "print(\"% of true instance:\", survival_rate)\n",
    "# 38 percent, mildly imbalance true instance\n",
    "\n",
    "# Quick overview\n",
    "# 891 rows\n",
    "print(X.shape)\n",
    "print(X.info())\n"
   ]
  },
  {
   "cell_type": "code",
   "execution_count": 4,
   "id": "a51b4a76",
   "metadata": {
    "execution": {
     "iopub.execute_input": "2025-08-19T20:38:20.847203Z",
     "iopub.status.busy": "2025-08-19T20:38:20.846815Z",
     "iopub.status.idle": "2025-08-19T20:38:23.245620Z",
     "shell.execute_reply": "2025-08-19T20:38:23.244410Z"
    },
    "papermill": {
     "duration": 2.406991,
     "end_time": "2025-08-19T20:38:23.247881",
     "exception": false,
     "start_time": "2025-08-19T20:38:20.840890",
     "status": "completed"
    },
    "tags": []
   },
   "outputs": [],
   "source": [
    "from sklearn.preprocessing import FunctionTransformer\n",
    "\n",
    "features = [\"Pclass\", \"Sex\", \"FamilySize\", \"Age\", \"Fare\"]\n",
    "\n",
    "# feature engineering\n",
    "def add_family_size(df):\n",
    "    df = df.copy()\n",
    "    df[\"FamilySize\"] = df[\"SibSp\"] + df[\"Parch\"] + 1\n",
    "    return df[features]\n",
    "\n",
    "def fill_na_age_values(df):\n",
    "    df = df.copy()\n",
    "    df[\"Age\"] = df[\"Age\"].fillna(df[\"Age\"].median())\n",
    "    return df[features]\n",
    "\n",
    "def fill_na_fare_values(df):\n",
    "    df = df.copy()\n",
    "    df[\"Fare\"] = df[\"Fare\"].fillna(df[\"Fare\"].median())\n",
    "    return df[features]\n",
    "\n",
    "# Wrap func into transformer\n",
    "add_family_size_feature_transformer = FunctionTransformer(add_family_size)\n",
    "fill_na_age_values_transformer = FunctionTransformer(fill_na_age_values)\n",
    "fill_na_fare_values_transformer = FunctionTransformer(fill_na_fare_values)"
   ]
  },
  {
   "cell_type": "code",
   "execution_count": 5,
   "id": "14d7327b",
   "metadata": {
    "execution": {
     "iopub.execute_input": "2025-08-19T20:38:23.258776Z",
     "iopub.status.busy": "2025-08-19T20:38:23.258210Z",
     "iopub.status.idle": "2025-08-19T20:38:24.079967Z",
     "shell.execute_reply": "2025-08-19T20:38:24.078726Z"
    },
    "papermill": {
     "duration": 0.830063,
     "end_time": "2025-08-19T20:38:24.082402",
     "exception": false,
     "start_time": "2025-08-19T20:38:23.252339",
     "status": "completed"
    },
    "tags": []
   },
   "outputs": [],
   "source": [
    "from sklearn.compose import ColumnTransformer\n",
    "from sklearn.preprocessing import OneHotEncoder\n",
    "from sklearn.pipeline import Pipeline\n",
    "from sklearn.model_selection import train_test_split\n",
    "from sklearn.preprocessing import OneHotEncoder\n",
    "from sklearn.ensemble import RandomForestClassifier\n",
    "\n",
    "\n",
    "# Step 1: Preprocessor\n",
    "categorical = [\"Pclass\", \"Sex\"]\n",
    "\n",
    "preprocessor = ColumnTransformer(\n",
    "    transformers = [\n",
    "        (\"cat\", OneHotEncoder(), categorical)\n",
    "    ],\n",
    "    remainder=\"passthrough\"\n",
    ")\n",
    "\n",
    "# Step 2: Combine preprocessor + model into a pipeline\n",
    "clf = Pipeline(steps=[\n",
    "    (\"add_family_size_feature\", add_family_size_feature_transformer),\n",
    "    (\"fill_na_age_values\", fill_na_age_values_transformer),\n",
    "    (\"fill_na_fare_values\", fill_na_fare_values_transformer),\n",
    "    (\"preprocessor\", preprocessor), # encode/preprocess\n",
    "    (\"model\", RandomForestClassifier(random_state=42))\n",
    "])"
   ]
  },
  {
   "cell_type": "code",
   "execution_count": 6,
   "id": "e9fdab19",
   "metadata": {
    "execution": {
     "iopub.execute_input": "2025-08-19T20:38:24.092743Z",
     "iopub.status.busy": "2025-08-19T20:38:24.092189Z",
     "iopub.status.idle": "2025-08-19T20:38:24.100482Z",
     "shell.execute_reply": "2025-08-19T20:38:24.099021Z"
    },
    "papermill": {
     "duration": 0.01763,
     "end_time": "2025-08-19T20:38:24.104167",
     "exception": false,
     "start_time": "2025-08-19T20:38:24.086537",
     "status": "completed"
    },
    "tags": []
   },
   "outputs": [],
   "source": [
    "from sklearn.model_selection import GridSearchCV\n",
    "\n",
    "# setup for hyper parameter tuning\n",
    "param_grid = {\n",
    "    \"model__n_estimators\": [100, 200, 300],\n",
    "    \"model__max_depth\": [4, 5, 6, None],\n",
    "    \"model__min_samples_split\": [2, 5, 10],\n",
    "    \"model__min_samples_leaf\": [1, 2, 4],\n",
    "    \"model__class_weight\": [None, 'balanced', {0: 1, 1: 1.5},]\n",
    "                            \n",
    "}\n",
    "\n",
    "grid_search = GridSearchCV(\n",
    "    estimator=clf,      # your pipeline or model\n",
    "    param_grid=param_grid,\n",
    "    cv=5,               # number of folds\n",
    "    scoring=['accuracy', 'f1', 'recall'],\n",
    "    refit='f1',  # Which metric to use for selecting best model\n",
    "    n_jobs=-1           # use all CPU cores\n",
    ")\n",
    "\n"
   ]
  },
  {
   "cell_type": "code",
   "execution_count": 7,
   "id": "661ff47d",
   "metadata": {
    "execution": {
     "iopub.execute_input": "2025-08-19T20:38:24.114338Z",
     "iopub.status.busy": "2025-08-19T20:38:24.113972Z",
     "iopub.status.idle": "2025-08-19T20:43:28.611225Z",
     "shell.execute_reply": "2025-08-19T20:43:28.609724Z"
    },
    "papermill": {
     "duration": 304.504643,
     "end_time": "2025-08-19T20:43:28.613709",
     "exception": false,
     "start_time": "2025-08-19T20:38:24.109066",
     "status": "completed"
    },
    "tags": []
   },
   "outputs": [],
   "source": [
    "from sklearn.metrics import accuracy_score\n",
    "\n",
    "X_train, X_val, y_train, y_val = train_test_split(X, y, test_size=0.2, random_state=42,stratify=y)\n",
    "\n",
    "grid_search.fit(X_train, y_train)\n",
    "\n",
    "# Access the best pipeline after GridSearchCV\n",
    "best_estimator = grid_search.best_estimator_"
   ]
  },
  {
   "cell_type": "code",
   "execution_count": 8,
   "id": "ef0c63b3",
   "metadata": {
    "execution": {
     "iopub.execute_input": "2025-08-19T20:43:28.623257Z",
     "iopub.status.busy": "2025-08-19T20:43:28.622893Z",
     "iopub.status.idle": "2025-08-19T20:43:28.657635Z",
     "shell.execute_reply": "2025-08-19T20:43:28.656393Z"
    },
    "papermill": {
     "duration": 0.04228,
     "end_time": "2025-08-19T20:43:28.659902",
     "exception": false,
     "start_time": "2025-08-19T20:43:28.617622",
     "status": "completed"
    },
    "tags": []
   },
   "outputs": [
    {
     "name": "stdout",
     "output_type": "stream",
     "text": [
      "Validation Accuracy: 0.7988826815642458\n",
      "feature: Pclass , importance: 0.04394027242166347\n",
      "feature: Sex , importance: 0.01655647082349809\n",
      "feature: FamilySize , importance: 0.08000931648143822\n",
      "feature: Age , importance: 0.25732907183506215\n",
      "feature: Fare , importance: 0.20645398868660042\n"
     ]
    }
   ],
   "source": [
    "# evaluate accuracy\n",
    "val_preds = best_estimator.predict(X_val)\n",
    "print(\"Validation Accuracy:\", accuracy_score(y_val, val_preds))\n",
    "\n",
    "# evaluate feature importance\n",
    "# Get the model from inside the pipeline\n",
    "rf_model = best_estimator.named_steps[\"model\"]\n",
    "\n",
    "# Feature importances\n",
    "feature_importance = rf_model.feature_importances_\n",
    "\n",
    "for feature_name, imp in zip(features, feature_importance):\n",
    "    print (\"feature:\", feature_name, \", importance:\", imp)"
   ]
  },
  {
   "cell_type": "code",
   "execution_count": 9,
   "id": "6145de53",
   "metadata": {
    "execution": {
     "iopub.execute_input": "2025-08-19T20:43:28.670549Z",
     "iopub.status.busy": "2025-08-19T20:43:28.670158Z",
     "iopub.status.idle": "2025-08-19T20:43:29.174575Z",
     "shell.execute_reply": "2025-08-19T20:43:29.172731Z"
    },
    "papermill": {
     "duration": 0.51182,
     "end_time": "2025-08-19T20:43:29.176631",
     "exception": false,
     "start_time": "2025-08-19T20:43:28.664811",
     "status": "completed"
    },
    "tags": []
   },
   "outputs": [
    {
     "name": "stdout",
     "output_type": "stream",
     "text": [
      "                 precision    recall  f1-score   support\n",
      "\n",
      "Did Not Survive       0.84      0.83      0.83       110\n",
      "       Survived       0.73      0.75      0.74        69\n",
      "\n",
      "       accuracy                           0.80       179\n",
      "      macro avg       0.79      0.79      0.79       179\n",
      "   weighted avg       0.80      0.80      0.80       179\n",
      "\n"
     ]
    },
    {
     "data": {
      "image/png": "[encoded data removed]",
      "text/plain": [
       "<Figure size 640x480 with 2 Axes>"
      ]
     },
     "metadata": {},
     "output_type": "display_data"
    }
   ],
   "source": [
    "from sklearn.metrics import confusion_matrix, ConfusionMatrixDisplay, classification_report\n",
    "\n",
    "cm = confusion_matrix(y_val, val_preds, labels=[0, 1])\n",
    "disp = ConfusionMatrixDisplay(confusion_matrix=cm, display_labels=[\"Did Not Survive\", \"Survived\"])\n",
    "disp.plot(cmap=\"Blues\")\n",
    "\n",
    "print(classification_report(y_val, val_preds, target_names=[\"Did Not Survive\", \"Survived\"]))"
   ]
  },
  {
   "cell_type": "code",
   "execution_count": 10,
   "id": "1fb7fac5",
   "metadata": {
    "execution": {
     "iopub.execute_input": "2025-08-19T20:43:29.186651Z",
     "iopub.status.busy": "2025-08-19T20:43:29.186274Z",
     "iopub.status.idle": "2025-08-19T20:43:30.247672Z",
     "shell.execute_reply": "2025-08-19T20:43:30.246193Z"
    },
    "papermill": {
     "duration": 1.068546,
     "end_time": "2025-08-19T20:43:30.249578",
     "exception": false,
     "start_time": "2025-08-19T20:43:29.181032",
     "status": "completed"
    },
    "tags": []
   },
   "outputs": [
    {
     "name": "stdout",
     "output_type": "stream",
     "text": [
      "CV F1 scores: [0.74324324 0.73469388 0.77037037 0.74796748 0.81690141]\n",
      "Mean F1: 0.7626352758580269 ± Std: 0.029585678112347944\n"
     ]
    }
   ],
   "source": [
    "from sklearn.model_selection import cross_val_score\n",
    "\n",
    "cv_scores = cross_val_score(best_estimator, X, y, cv=5, scoring=\"f1\")\n",
    "print(\"CV F1 scores:\", cv_scores)\n",
    "print(\"Mean F1:\", cv_scores.mean(), \"± Std:\", cv_scores.std())"
   ]
  },
  {
   "cell_type": "code",
   "execution_count": 11,
   "id": "fb8ae37c",
   "metadata": {
    "execution": {
     "iopub.execute_input": "2025-08-19T20:43:30.260498Z",
     "iopub.status.busy": "2025-08-19T20:43:30.260111Z",
     "iopub.status.idle": "2025-08-19T20:43:30.307003Z",
     "shell.execute_reply": "2025-08-19T20:43:30.305447Z"
    },
    "papermill": {
     "duration": 0.055242,
     "end_time": "2025-08-19T20:43:30.309477",
     "exception": false,
     "start_time": "2025-08-19T20:43:30.254235",
     "status": "completed"
    },
    "tags": []
   },
   "outputs": [
    {
     "name": "stdout",
     "output_type": "stream",
     "text": [
      "Submission shape: (418, 2)\n",
      "   PassengerId  Survived\n",
      "0          892         0\n",
      "1          893         0\n",
      "2          894         0\n",
      "3          895         0\n",
      "4          896         1\n",
      "Predictions: 173 survived, 245 died\n"
     ]
    }
   ],
   "source": [
    "# submission\n",
    "test_data = pd.read_csv(\"/kaggle/input/titanic/test.csv\")\n",
    "passenger_ids = test_data['PassengerId'].copy()\n",
    "predictions = best_estimator.predict(test_data)\n",
    "\n",
    "output = pd.DataFrame({\n",
    "    'PassengerId': passenger_ids,\n",
    "    'Survived': predictions\n",
    "})\n",
    "\n",
    "output.to_csv('submission.csv', index=False)\n",
    "\n",
    "print(f\"Submission shape: {output.shape}\")\n",
    "print(output.head())\n",
    "print(f\"Predictions: {output['Survived'].sum()} survived, {len(output) - output['Survived'].sum()} died\")"
   ]
  }
 ],
 "metadata": {
  "kaggle": {
   "accelerator": "none",
   "dataSources": [
    {
     "databundleVersionId": 26502,
     "sourceId": 3136,
     "sourceType": "competition"
    }
   ],
   "dockerImageVersionId": 31089,
   "isGpuEnabled": false,
   "isInternetEnabled": false,
   "language": "python",
   "sourceType": "notebook"
  },
  "kernelspec": {
   "display_name": "Python 3",
   "language": "python",
   "name": "python3"
  },
  "language_info": {
   "codemirror_mode": {
    "name": "ipython",
    "version": 3
   },
   "file_extension": ".py",
   "mimetype": "text/x-python",
   "name": "python",
   "nbconvert_exporter": "python",
   "pygments_lexer": "ipython3",
   "version": "3.11.13"
  },
  "papermill": {
   "default_parameters": {},
   "duration": 322.425987,
   "end_time": "2025-08-19T20:43:32.937379",
   "environment_variables": {},
   "exception": null,
   "input_path": "__notebook__.ipynb",
   "output_path": "__notebook__.ipynb",
   "parameters": {},
   "start_time": "2025-08-19T20:38:10.511392",
   "version": "2.6.0"
  }
 },
 "nbformat": 4,
 "nbformat_minor": 5
}
