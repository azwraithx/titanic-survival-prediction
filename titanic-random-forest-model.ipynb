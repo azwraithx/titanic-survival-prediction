{
 "cells": [
  {
   "cell_type": "code",
   "execution_count": 1,
   "id": "c5ccec8d",
   "metadata": {
    "_cell_guid": "b1076dfc-b9ad-4769-8c92-a6c4dae69d19",
    "_uuid": "8f2839f25d086af736a60e9eeb907d3b93b6e0e5",
    "execution": {
     "iopub.execute_input": "2025-08-27T15:06:13.513532Z",
     "iopub.status.busy": "2025-08-27T15:06:13.513225Z",
     "iopub.status.idle": "2025-08-27T15:06:15.211890Z",
     "shell.execute_reply": "2025-08-27T15:06:15.210947Z"
    },
    "papermill": {
     "duration": 1.705016,
     "end_time": "2025-08-27T15:06:15.213314",
     "exception": false,
     "start_time": "2025-08-27T15:06:13.508298",
     "status": "completed"
    },
    "tags": []
   },
   "outputs": [
    {
     "name": "stdout",
     "output_type": "stream",
     "text": [
      "/kaggle/input/titanic/train.csv\n",
      "/kaggle/input/titanic/test.csv\n",
      "/kaggle/input/titanic/gender_submission.csv\n"
     ]
    }
   ],
   "source": [
    "import numpy as np \n",
    "import pandas as pd \n",
    "\n",
    "import os\n",
    "for dirname, _, filenames in os.walk('/kaggle/input'):\n",
    "    for filename in filenames:\n",
    "        print(os.path.join(dirname, filename))"
   ]
  },
  {
   "cell_type": "code",
   "execution_count": 2,
   "id": "3e5d3168",
   "metadata": {
    "execution": {
     "iopub.execute_input": "2025-08-27T15:06:15.221592Z",
     "iopub.status.busy": "2025-08-27T15:06:15.220908Z",
     "iopub.status.idle": "2025-08-27T15:06:15.268364Z",
     "shell.execute_reply": "2025-08-27T15:06:15.267601Z"
    },
    "papermill": {
     "duration": 0.053007,
     "end_time": "2025-08-27T15:06:15.269893",
     "exception": false,
     "start_time": "2025-08-27T15:06:15.216886",
     "status": "completed"
    },
    "tags": []
   },
   "outputs": [],
   "source": [
    "train_data = pd.read_csv(\"/kaggle/input/titanic/train.csv\")\n",
    "test_data = pd.read_csv(\"/kaggle/input/titanic/test.csv\")\n",
    "\n",
    "train_data = train_data.set_index(\"PassengerId\")\n",
    "test_data = test_data.set_index(\"PassengerId\")\n",
    "\n",
    "y = train_data[\"Survived\"]\n",
    "X = train_data.drop(\"Survived\", axis=1)"
   ]
  },
  {
   "cell_type": "code",
   "execution_count": 3,
   "id": "eff2bbd5",
   "metadata": {
    "execution": {
     "iopub.execute_input": "2025-08-27T15:06:15.277736Z",
     "iopub.status.busy": "2025-08-27T15:06:15.277391Z",
     "iopub.status.idle": "2025-08-27T15:06:15.299975Z",
     "shell.execute_reply": "2025-08-27T15:06:15.299167Z"
    },
    "papermill": {
     "duration": 0.02791,
     "end_time": "2025-08-27T15:06:15.301312",
     "exception": false,
     "start_time": "2025-08-27T15:06:15.273402",
     "status": "completed"
    },
    "tags": []
   },
   "outputs": [
    {
     "data": {
      "text/html": [
       "<div>\n",
       "<style scoped>\n",
       "    .dataframe tbody tr th:only-of-type {\n",
       "        vertical-align: middle;\n",
       "    }\n",
       "\n",
       "    .dataframe tbody tr th {\n",
       "        vertical-align: top;\n",
       "    }\n",
       "\n",
       "    .dataframe thead th {\n",
       "        text-align: right;\n",
       "    }\n",
       "</style>\n",
       "<table border=\"1\" class=\"dataframe\">\n",
       "  <thead>\n",
       "    <tr style=\"text-align: right;\">\n",
       "      <th></th>\n",
       "      <th>Pclass</th>\n",
       "      <th>Name</th>\n",
       "      <th>Sex</th>\n",
       "      <th>Age</th>\n",
       "      <th>SibSp</th>\n",
       "      <th>Parch</th>\n",
       "      <th>Ticket</th>\n",
       "      <th>Fare</th>\n",
       "      <th>Cabin</th>\n",
       "      <th>Embarked</th>\n",
       "    </tr>\n",
       "    <tr>\n",
       "      <th>PassengerId</th>\n",
       "      <th></th>\n",
       "      <th></th>\n",
       "      <th></th>\n",
       "      <th></th>\n",
       "      <th></th>\n",
       "      <th></th>\n",
       "      <th></th>\n",
       "      <th></th>\n",
       "      <th></th>\n",
       "      <th></th>\n",
       "    </tr>\n",
       "  </thead>\n",
       "  <tbody>\n",
       "    <tr>\n",
       "      <th>1</th>\n",
       "      <td>3</td>\n",
       "      <td>Braund, Mr. Owen Harris</td>\n",
       "      <td>male</td>\n",
       "      <td>22.0</td>\n",
       "      <td>1</td>\n",
       "      <td>0</td>\n",
       "      <td>A/5 21171</td>\n",
       "      <td>7.2500</td>\n",
       "      <td>NaN</td>\n",
       "      <td>S</td>\n",
       "    </tr>\n",
       "    <tr>\n",
       "      <th>2</th>\n",
       "      <td>1</td>\n",
       "      <td>Cumings, Mrs. John Bradley (Florence Briggs Th...</td>\n",
       "      <td>female</td>\n",
       "      <td>38.0</td>\n",
       "      <td>1</td>\n",
       "      <td>0</td>\n",
       "      <td>PC 17599</td>\n",
       "      <td>71.2833</td>\n",
       "      <td>C85</td>\n",
       "      <td>C</td>\n",
       "    </tr>\n",
       "    <tr>\n",
       "      <th>3</th>\n",
       "      <td>3</td>\n",
       "      <td>Heikkinen, Miss. Laina</td>\n",
       "      <td>female</td>\n",
       "      <td>26.0</td>\n",
       "      <td>0</td>\n",
       "      <td>0</td>\n",
       "      <td>STON/O2. 3101282</td>\n",
       "      <td>7.9250</td>\n",
       "      <td>NaN</td>\n",
       "      <td>S</td>\n",
       "    </tr>\n",
       "    <tr>\n",
       "      <th>4</th>\n",
       "      <td>1</td>\n",
       "      <td>Futrelle, Mrs. Jacques Heath (Lily May Peel)</td>\n",
       "      <td>female</td>\n",
       "      <td>35.0</td>\n",
       "      <td>1</td>\n",
       "      <td>0</td>\n",
       "      <td>113803</td>\n",
       "      <td>53.1000</td>\n",
       "      <td>C123</td>\n",
       "      <td>S</td>\n",
       "    </tr>\n",
       "    <tr>\n",
       "      <th>5</th>\n",
       "      <td>3</td>\n",
       "      <td>Allen, Mr. William Henry</td>\n",
       "      <td>male</td>\n",
       "      <td>35.0</td>\n",
       "      <td>0</td>\n",
       "      <td>0</td>\n",
       "      <td>373450</td>\n",
       "      <td>8.0500</td>\n",
       "      <td>NaN</td>\n",
       "      <td>S</td>\n",
       "    </tr>\n",
       "  </tbody>\n",
       "</table>\n",
       "</div>"
      ],
      "text/plain": [
       "             Pclass                                               Name  \\\n",
       "PassengerId                                                              \n",
       "1                 3                            Braund, Mr. Owen Harris   \n",
       "2                 1  Cumings, Mrs. John Bradley (Florence Briggs Th...   \n",
       "3                 3                             Heikkinen, Miss. Laina   \n",
       "4                 1       Futrelle, Mrs. Jacques Heath (Lily May Peel)   \n",
       "5                 3                           Allen, Mr. William Henry   \n",
       "\n",
       "                Sex   Age  SibSp  Parch            Ticket     Fare Cabin  \\\n",
       "PassengerId                                                                \n",
       "1              male  22.0      1      0         A/5 21171   7.2500   NaN   \n",
       "2            female  38.0      1      0          PC 17599  71.2833   C85   \n",
       "3            female  26.0      0      0  STON/O2. 3101282   7.9250   NaN   \n",
       "4            female  35.0      1      0            113803  53.1000  C123   \n",
       "5              male  35.0      0      0            373450   8.0500   NaN   \n",
       "\n",
       "            Embarked  \n",
       "PassengerId           \n",
       "1                  S  \n",
       "2                  C  \n",
       "3                  S  \n",
       "4                  S  \n",
       "5                  S  "
      ]
     },
     "execution_count": 3,
     "metadata": {},
     "output_type": "execute_result"
    }
   ],
   "source": [
    "X.head()\n"
   ]
  },
  {
   "cell_type": "code",
   "execution_count": 4,
   "id": "0e9c27dd",
   "metadata": {
    "execution": {
     "iopub.execute_input": "2025-08-27T15:06:15.309860Z",
     "iopub.status.busy": "2025-08-27T15:06:15.309211Z",
     "iopub.status.idle": "2025-08-27T15:06:15.327434Z",
     "shell.execute_reply": "2025-08-27T15:06:15.326529Z"
    },
    "papermill": {
     "duration": 0.024059,
     "end_time": "2025-08-27T15:06:15.329019",
     "exception": false,
     "start_time": "2025-08-27T15:06:15.304960",
     "status": "completed"
    },
    "tags": []
   },
   "outputs": [
    {
     "name": "stdout",
     "output_type": "stream",
     "text": [
      "<class 'pandas.core.frame.DataFrame'>\n",
      "Index: 891 entries, 1 to 891\n",
      "Data columns (total 10 columns):\n",
      " #   Column    Non-Null Count  Dtype  \n",
      "---  ------    --------------  -----  \n",
      " 0   Pclass    891 non-null    int64  \n",
      " 1   Name      891 non-null    object \n",
      " 2   Sex       891 non-null    object \n",
      " 3   Age       714 non-null    float64\n",
      " 4   SibSp     891 non-null    int64  \n",
      " 5   Parch     891 non-null    int64  \n",
      " 6   Ticket    891 non-null    object \n",
      " 7   Fare      891 non-null    float64\n",
      " 8   Cabin     204 non-null    object \n",
      " 9   Embarked  889 non-null    object \n",
      "dtypes: float64(2), int64(3), object(5)\n",
      "memory usage: 76.6+ KB\n"
     ]
    }
   ],
   "source": [
    "X.info()"
   ]
  },
  {
   "cell_type": "code",
   "execution_count": 5,
   "id": "c9a7f8c6",
   "metadata": {
    "execution": {
     "iopub.execute_input": "2025-08-27T15:06:15.337240Z",
     "iopub.status.busy": "2025-08-27T15:06:15.336987Z",
     "iopub.status.idle": "2025-08-27T15:06:15.364993Z",
     "shell.execute_reply": "2025-08-27T15:06:15.364154Z"
    },
    "papermill": {
     "duration": 0.033664,
     "end_time": "2025-08-27T15:06:15.366449",
     "exception": false,
     "start_time": "2025-08-27T15:06:15.332785",
     "status": "completed"
    },
    "tags": []
   },
   "outputs": [
    {
     "data": {
      "text/html": [
       "<div>\n",
       "<style scoped>\n",
       "    .dataframe tbody tr th:only-of-type {\n",
       "        vertical-align: middle;\n",
       "    }\n",
       "\n",
       "    .dataframe tbody tr th {\n",
       "        vertical-align: top;\n",
       "    }\n",
       "\n",
       "    .dataframe thead th {\n",
       "        text-align: right;\n",
       "    }\n",
       "</style>\n",
       "<table border=\"1\" class=\"dataframe\">\n",
       "  <thead>\n",
       "    <tr style=\"text-align: right;\">\n",
       "      <th></th>\n",
       "      <th>Pclass</th>\n",
       "      <th>Age</th>\n",
       "      <th>SibSp</th>\n",
       "      <th>Parch</th>\n",
       "      <th>Fare</th>\n",
       "    </tr>\n",
       "  </thead>\n",
       "  <tbody>\n",
       "    <tr>\n",
       "      <th>count</th>\n",
       "      <td>891.000000</td>\n",
       "      <td>714.000000</td>\n",
       "      <td>891.000000</td>\n",
       "      <td>891.000000</td>\n",
       "      <td>891.000000</td>\n",
       "    </tr>\n",
       "    <tr>\n",
       "      <th>mean</th>\n",
       "      <td>2.308642</td>\n",
       "      <td>29.699118</td>\n",
       "      <td>0.523008</td>\n",
       "      <td>0.381594</td>\n",
       "      <td>32.204208</td>\n",
       "    </tr>\n",
       "    <tr>\n",
       "      <th>std</th>\n",
       "      <td>0.836071</td>\n",
       "      <td>14.526497</td>\n",
       "      <td>1.102743</td>\n",
       "      <td>0.806057</td>\n",
       "      <td>49.693429</td>\n",
       "    </tr>\n",
       "    <tr>\n",
       "      <th>min</th>\n",
       "      <td>1.000000</td>\n",
       "      <td>0.420000</td>\n",
       "      <td>0.000000</td>\n",
       "      <td>0.000000</td>\n",
       "      <td>0.000000</td>\n",
       "    </tr>\n",
       "    <tr>\n",
       "      <th>25%</th>\n",
       "      <td>2.000000</td>\n",
       "      <td>20.125000</td>\n",
       "      <td>0.000000</td>\n",
       "      <td>0.000000</td>\n",
       "      <td>7.910400</td>\n",
       "    </tr>\n",
       "    <tr>\n",
       "      <th>50%</th>\n",
       "      <td>3.000000</td>\n",
       "      <td>28.000000</td>\n",
       "      <td>0.000000</td>\n",
       "      <td>0.000000</td>\n",
       "      <td>14.454200</td>\n",
       "    </tr>\n",
       "    <tr>\n",
       "      <th>75%</th>\n",
       "      <td>3.000000</td>\n",
       "      <td>38.000000</td>\n",
       "      <td>1.000000</td>\n",
       "      <td>0.000000</td>\n",
       "      <td>31.000000</td>\n",
       "    </tr>\n",
       "    <tr>\n",
       "      <th>max</th>\n",
       "      <td>3.000000</td>\n",
       "      <td>80.000000</td>\n",
       "      <td>8.000000</td>\n",
       "      <td>6.000000</td>\n",
       "      <td>512.329200</td>\n",
       "    </tr>\n",
       "  </tbody>\n",
       "</table>\n",
       "</div>"
      ],
      "text/plain": [
       "           Pclass         Age       SibSp       Parch        Fare\n",
       "count  891.000000  714.000000  891.000000  891.000000  891.000000\n",
       "mean     2.308642   29.699118    0.523008    0.381594   32.204208\n",
       "std      0.836071   14.526497    1.102743    0.806057   49.693429\n",
       "min      1.000000    0.420000    0.000000    0.000000    0.000000\n",
       "25%      2.000000   20.125000    0.000000    0.000000    7.910400\n",
       "50%      3.000000   28.000000    0.000000    0.000000   14.454200\n",
       "75%      3.000000   38.000000    1.000000    0.000000   31.000000\n",
       "max      3.000000   80.000000    8.000000    6.000000  512.329200"
      ]
     },
     "execution_count": 5,
     "metadata": {},
     "output_type": "execute_result"
    }
   ],
   "source": [
    "X.describe()"
   ]
  },
  {
   "cell_type": "code",
   "execution_count": 6,
   "id": "28c8c652",
   "metadata": {
    "execution": {
     "iopub.execute_input": "2025-08-27T15:06:15.375595Z",
     "iopub.status.busy": "2025-08-27T15:06:15.375293Z",
     "iopub.status.idle": "2025-08-27T15:06:15.383004Z",
     "shell.execute_reply": "2025-08-27T15:06:15.382306Z"
    },
    "papermill": {
     "duration": 0.013923,
     "end_time": "2025-08-27T15:06:15.384263",
     "exception": false,
     "start_time": "2025-08-27T15:06:15.370340",
     "status": "completed"
    },
    "tags": []
   },
   "outputs": [
    {
     "data": {
      "text/plain": [
       "Survived\n",
       "0    549\n",
       "1    342\n",
       "Name: count, dtype: int64"
      ]
     },
     "execution_count": 6,
     "metadata": {},
     "output_type": "execute_result"
    }
   ],
   "source": [
    "y.value_counts()"
   ]
  },
  {
   "cell_type": "code",
   "execution_count": 7,
   "id": "7670fa10",
   "metadata": {
    "execution": {
     "iopub.execute_input": "2025-08-27T15:06:15.392995Z",
     "iopub.status.busy": "2025-08-27T15:06:15.392718Z",
     "iopub.status.idle": "2025-08-27T15:06:15.398739Z",
     "shell.execute_reply": "2025-08-27T15:06:15.398042Z"
    },
    "papermill": {
     "duration": 0.011735,
     "end_time": "2025-08-27T15:06:15.399901",
     "exception": false,
     "start_time": "2025-08-27T15:06:15.388166",
     "status": "completed"
    },
    "tags": []
   },
   "outputs": [
    {
     "data": {
      "text/plain": [
       "Pclass\n",
       "3    491\n",
       "1    216\n",
       "2    184\n",
       "Name: count, dtype: int64"
      ]
     },
     "execution_count": 7,
     "metadata": {},
     "output_type": "execute_result"
    }
   ],
   "source": [
    "X[\"Pclass\"].value_counts()"
   ]
  },
  {
   "cell_type": "code",
   "execution_count": 8,
   "id": "fde3ac96",
   "metadata": {
    "execution": {
     "iopub.execute_input": "2025-08-27T15:06:15.408839Z",
     "iopub.status.busy": "2025-08-27T15:06:15.408223Z",
     "iopub.status.idle": "2025-08-27T15:06:15.414447Z",
     "shell.execute_reply": "2025-08-27T15:06:15.413825Z"
    },
    "papermill": {
     "duration": 0.011865,
     "end_time": "2025-08-27T15:06:15.415614",
     "exception": false,
     "start_time": "2025-08-27T15:06:15.403749",
     "status": "completed"
    },
    "tags": []
   },
   "outputs": [
    {
     "data": {
      "text/plain": [
       "Sex\n",
       "male      577\n",
       "female    314\n",
       "Name: count, dtype: int64"
      ]
     },
     "execution_count": 8,
     "metadata": {},
     "output_type": "execute_result"
    }
   ],
   "source": [
    "X[\"Sex\"].value_counts()"
   ]
  },
  {
   "cell_type": "code",
   "execution_count": 9,
   "id": "c2db737f",
   "metadata": {
    "execution": {
     "iopub.execute_input": "2025-08-27T15:06:15.424316Z",
     "iopub.status.busy": "2025-08-27T15:06:15.423855Z",
     "iopub.status.idle": "2025-08-27T15:06:15.429924Z",
     "shell.execute_reply": "2025-08-27T15:06:15.429244Z"
    },
    "papermill": {
     "duration": 0.011583,
     "end_time": "2025-08-27T15:06:15.431126",
     "exception": false,
     "start_time": "2025-08-27T15:06:15.419543",
     "status": "completed"
    },
    "tags": []
   },
   "outputs": [
    {
     "data": {
      "text/plain": [
       "Embarked\n",
       "S    644\n",
       "C    168\n",
       "Q     77\n",
       "Name: count, dtype: int64"
      ]
     },
     "execution_count": 9,
     "metadata": {},
     "output_type": "execute_result"
    }
   ],
   "source": [
    "# C=Cherbourg, Q=Queenstown, S=Southampton.\n",
    "X[\"Embarked\"].value_counts()"
   ]
  },
  {
   "cell_type": "code",
   "execution_count": 10,
   "id": "e7b95370",
   "metadata": {
    "execution": {
     "iopub.execute_input": "2025-08-27T15:06:15.441102Z",
     "iopub.status.busy": "2025-08-27T15:06:15.440552Z",
     "iopub.status.idle": "2025-08-27T15:06:16.975911Z",
     "shell.execute_reply": "2025-08-27T15:06:16.975040Z"
    },
    "papermill": {
     "duration": 1.542366,
     "end_time": "2025-08-27T15:06:16.977495",
     "exception": false,
     "start_time": "2025-08-27T15:06:15.435129",
     "status": "completed"
    },
    "tags": []
   },
   "outputs": [],
   "source": [
    "from sklearn.pipeline import Pipeline\n",
    "from sklearn.impute import SimpleImputer\n",
    "from sklearn.preprocessing import StandardScaler\n",
    "\n",
    "num_pipeline = Pipeline([\n",
    "        (\"imputer\", SimpleImputer(strategy=\"median\")),\n",
    "        (\"scaler\", StandardScaler())\n",
    "    ])"
   ]
  },
  {
   "cell_type": "code",
   "execution_count": 11,
   "id": "dfcb3a3a",
   "metadata": {
    "execution": {
     "iopub.execute_input": "2025-08-27T15:06:16.986559Z",
     "iopub.status.busy": "2025-08-27T15:06:16.986161Z",
     "iopub.status.idle": "2025-08-27T15:06:16.990879Z",
     "shell.execute_reply": "2025-08-27T15:06:16.990245Z"
    },
    "papermill": {
     "duration": 0.010569,
     "end_time": "2025-08-27T15:06:16.992072",
     "exception": false,
     "start_time": "2025-08-27T15:06:16.981503",
     "status": "completed"
    },
    "tags": []
   },
   "outputs": [],
   "source": [
    "from sklearn.preprocessing import OrdinalEncoder, OneHotEncoder\n",
    "\n",
    "cat_pipeline = Pipeline([\n",
    "        (\"ordinal_encoder\", OrdinalEncoder()), # convert categorical values into integer codes\n",
    "        (\"imputer\", SimpleImputer(strategy=\"most_frequent\")),\n",
    "        (\"cat_encoder\", OneHotEncoder(sparse_output=False)), #Converts categorical values into binary columns, avoiding any implied order.\n",
    "    ])"
   ]
  },
  {
   "cell_type": "code",
   "execution_count": 12,
   "id": "0068d1f3",
   "metadata": {
    "execution": {
     "iopub.execute_input": "2025-08-27T15:06:17.001122Z",
     "iopub.status.busy": "2025-08-27T15:06:17.000414Z",
     "iopub.status.idle": "2025-08-27T15:06:17.015438Z",
     "shell.execute_reply": "2025-08-27T15:06:17.014648Z"
    },
    "papermill": {
     "duration": 0.020902,
     "end_time": "2025-08-27T15:06:17.016913",
     "exception": false,
     "start_time": "2025-08-27T15:06:16.996011",
     "status": "completed"
    },
    "tags": []
   },
   "outputs": [],
   "source": [
    "from sklearn.compose import ColumnTransformer\n",
    "\n",
    "num_attribs = [\"Age\", \"SibSp\", \"Parch\", \"Fare\"]\n",
    "cat_attribs = [\"Pclass\", \"Sex\", \"Embarked\"]\n",
    "\n",
    "preprocess_pipeline = ColumnTransformer([\n",
    "        (\"num\", num_pipeline, num_attribs),\n",
    "        (\"cat\", cat_pipeline, cat_attribs),\n",
    "    ])"
   ]
  },
  {
   "cell_type": "code",
   "execution_count": 13,
   "id": "fc059667",
   "metadata": {
    "execution": {
     "iopub.execute_input": "2025-08-27T15:06:17.025968Z",
     "iopub.status.busy": "2025-08-27T15:06:17.025703Z",
     "iopub.status.idle": "2025-08-27T15:06:17.165594Z",
     "shell.execute_reply": "2025-08-27T15:06:17.164996Z"
    },
    "papermill": {
     "duration": 0.146305,
     "end_time": "2025-08-27T15:06:17.167112",
     "exception": false,
     "start_time": "2025-08-27T15:06:17.020807",
     "status": "completed"
    },
    "tags": []
   },
   "outputs": [],
   "source": [
    "from sklearn.ensemble import RandomForestClassifier\n",
    "\n",
    "clf = Pipeline(steps=[\n",
    "    (\"preprocess_pipeline\", preprocess_pipeline),\n",
    "    (\"model\", RandomForestClassifier(random_state=42))\n",
    "])"
   ]
  },
  {
   "cell_type": "code",
   "execution_count": 14,
   "id": "64e1d057",
   "metadata": {
    "execution": {
     "iopub.execute_input": "2025-08-27T15:06:17.176379Z",
     "iopub.status.busy": "2025-08-27T15:06:17.175686Z",
     "iopub.status.idle": "2025-08-27T15:06:17.180770Z",
     "shell.execute_reply": "2025-08-27T15:06:17.180122Z"
    },
    "papermill": {
     "duration": 0.010841,
     "end_time": "2025-08-27T15:06:17.181984",
     "exception": false,
     "start_time": "2025-08-27T15:06:17.171143",
     "status": "completed"
    },
    "tags": []
   },
   "outputs": [],
   "source": [
    "from sklearn.model_selection import GridSearchCV\n",
    "\n",
    "# setup for hyper parameter tuning\n",
    "param_grid = {\n",
    "    \"model__n_estimators\": [100, 200, 300],\n",
    "    \"model__max_depth\": [4, 5, 6, None],\n",
    "    \"model__min_samples_split\": [2, 5, 10],\n",
    "    \"model__min_samples_leaf\": [1, 2, 4],\n",
    "    \"model__class_weight\": [None, 'balanced', {0: 1, 1: 1.5},]\n",
    "                            \n",
    "}\n",
    "\n",
    "grid_search = GridSearchCV(\n",
    "    estimator=clf,      # your pipeline or model\n",
    "    param_grid=param_grid,\n",
    "    cv=5,               # number of folds\n",
    "    scoring=['accuracy', 'f1', 'recall'],\n",
    "    refit='f1',  # Which metric to use for selecting best model\n",
    "    n_jobs=-1           # use all CPU cores\n",
    ")"
   ]
  },
  {
   "cell_type": "code",
   "execution_count": 15,
   "id": "8fb58832",
   "metadata": {
    "execution": {
     "iopub.execute_input": "2025-08-27T15:06:17.190975Z",
     "iopub.status.busy": "2025-08-27T15:06:17.190325Z",
     "iopub.status.idle": "2025-08-27T15:10:05.551975Z",
     "shell.execute_reply": "2025-08-27T15:10:05.551273Z"
    },
    "papermill": {
     "duration": 228.367692,
     "end_time": "2025-08-27T15:10:05.553646",
     "exception": false,
     "start_time": "2025-08-27T15:06:17.185954",
     "status": "completed"
    },
    "tags": []
   },
   "outputs": [],
   "source": [
    "grid_search.fit(X, y)\n",
    "\n",
    "# Access the best pipeline after GridSearchCV\n",
    "best_estimator = grid_search.best_estimator_"
   ]
  },
  {
   "cell_type": "code",
   "execution_count": 16,
   "id": "e08730b6",
   "metadata": {
    "execution": {
     "iopub.execute_input": "2025-08-27T15:10:05.563305Z",
     "iopub.status.busy": "2025-08-27T15:10:05.562759Z",
     "iopub.status.idle": "2025-08-27T15:10:05.591980Z",
     "shell.execute_reply": "2025-08-27T15:10:05.591116Z"
    },
    "papermill": {
     "duration": 0.035389,
     "end_time": "2025-08-27T15:10:05.593390",
     "exception": false,
     "start_time": "2025-08-27T15:10:05.558001",
     "status": "completed"
    },
    "tags": []
   },
   "outputs": [],
   "source": [
    "y_pred = best_estimator.predict(test_data)"
   ]
  },
  {
   "cell_type": "code",
   "execution_count": 17,
   "id": "f192ede3",
   "metadata": {
    "execution": {
     "iopub.execute_input": "2025-08-27T15:10:05.602972Z",
     "iopub.status.busy": "2025-08-27T15:10:05.602156Z",
     "iopub.status.idle": "2025-08-27T15:10:05.615483Z",
     "shell.execute_reply": "2025-08-27T15:10:05.614704Z"
    },
    "papermill": {
     "duration": 0.01935,
     "end_time": "2025-08-27T15:10:05.616809",
     "exception": false,
     "start_time": "2025-08-27T15:10:05.597459",
     "status": "completed"
    },
    "tags": []
   },
   "outputs": [
    {
     "name": "stdout",
     "output_type": "stream",
     "text": [
      "Submission shape: (418, 2)\n",
      "   PassengerId  Survived\n",
      "0          892         0\n",
      "1          893         0\n",
      "2          894         0\n",
      "3          895         0\n",
      "4          896         1\n",
      "Predictions: 156 survived, 262 died\n"
     ]
    }
   ],
   "source": [
    "output = pd.DataFrame({\n",
    "    \"PassengerId\": test_data.index,  # Use the index as PassengerId\n",
    "    \"Survived\": y_pred\n",
    "})\n",
    "\n",
    "output.to_csv('submission.csv', index=False)\n",
    "\n",
    "print(f\"Submission shape: {output.shape}\")\n",
    "print(output.head())\n",
    "print(f\"Predictions: {output['Survived'].sum()} survived, {len(output) - output['Survived'].sum()} died\")"
   ]
  }
 ],
 "metadata": {
  "kaggle": {
   "accelerator": "none",
   "dataSources": [
    {
     "databundleVersionId": 26502,
     "sourceId": 3136,
     "sourceType": "competition"
    }
   ],
   "dockerImageVersionId": 31089,
   "isGpuEnabled": false,
   "isInternetEnabled": false,
   "language": "python",
   "sourceType": "notebook"
  },
  "kernelspec": {
   "display_name": "Python 3",
   "language": "python",
   "name": "python3"
  },
  "language_info": {
   "codemirror_mode": {
    "name": "ipython",
    "version": 3
   },
   "file_extension": ".py",
   "mimetype": "text/x-python",
   "name": "python",
   "nbconvert_exporter": "python",
   "pygments_lexer": "ipython3",
   "version": "3.11.13"
  },
  "papermill": {
   "default_parameters": {},
   "duration": 239.433068,
   "end_time": "2025-08-27T15:10:08.239149",
   "environment_variables": {},
   "exception": null,
   "input_path": "__notebook__.ipynb",
   "output_path": "__notebook__.ipynb",
   "parameters": {},
   "start_time": "2025-08-27T15:06:08.806081",
   "version": "2.6.0"
  }
 },
 "nbformat": 4,
 "nbformat_minor": 5
}
